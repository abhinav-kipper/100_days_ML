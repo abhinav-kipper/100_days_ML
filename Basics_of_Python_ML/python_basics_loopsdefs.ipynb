{
 "cells": [
  {
   "cell_type": "code",
   "execution_count": 3,
   "metadata": {},
   "outputs": [
    {
     "data": {
      "text/plain": [
       "bool"
      ]
     },
     "execution_count": 3,
     "metadata": {},
     "output_type": "execute_result"
    }
   ],
   "source": [
    "#boolean datatype\n",
    "a=True\n",
    "b=False\n",
    "type(a)"
   ]
  },
  {
   "cell_type": "code",
   "execution_count": 8,
   "metadata": {},
   "outputs": [
    {
     "name": "stdout",
     "output_type": "stream",
     "text": [
      "False\n",
      "False\n",
      "True\n",
      "False\n",
      "True\n"
     ]
    }
   ],
   "source": [
    "#Relational Operators\n",
    "x=10\n",
    "y=20\n",
    "print(x>y)\n",
    "print(x>=y)\n",
    "print(x<=y)\n",
    "print(x==y)\n",
    "print(x!=y)"
   ]
  },
  {
   "cell_type": "code",
   "execution_count": 12,
   "metadata": {},
   "outputs": [
    {
     "data": {
      "text/plain": [
       "True"
      ]
     },
     "execution_count": 12,
     "metadata": {},
     "output_type": "execute_result"
    }
   ],
   "source": [
    "#Logical Operators\n",
    "x=10\n",
    "y=20\n",
    "z=30\n",
    "x<y and x<z or x<y"
   ]
  },
  {
   "cell_type": "code",
   "execution_count": 15,
   "metadata": {},
   "outputs": [
    {
     "name": "stdout",
     "output_type": "stream",
     "text": [
      "30\n"
     ]
    }
   ],
   "source": [
    "#if else\n",
    "if x>=y and x>=z:\n",
    "    print(x)\n",
    "elif y>=z and y>=x :\n",
    "    print(y)\n",
    "else:\n",
    "    print(z)"
   ]
  },
  {
   "cell_type": "code",
   "execution_count": 18,
   "metadata": {},
   "outputs": [
    {
     "name": "stdout",
     "output_type": "stream",
     "text": [
      "B\n"
     ]
    }
   ],
   "source": [
    "if True or True:\n",
    "    if False and True or False:\n",
    "        print('A')\n",
    "    elif False and False or True and True:\n",
    "        print('B')\n",
    "    else:\n",
    "        print('C')\n",
    "else:\n",
    "     print('D')"
   ]
  },
  {
   "cell_type": "code",
   "execution_count": 31,
   "metadata": {},
   "outputs": [
    {
     "data": {
      "text/plain": [
       "True"
      ]
     },
     "execution_count": 31,
     "metadata": {},
     "output_type": "execute_result"
    }
   ],
   "source": [
    "True and True or False and False"
   ]
  },
  {
   "cell_type": "code",
   "execution_count": 32,
   "metadata": {},
   "outputs": [
    {
     "data": {
      "text/plain": [
       "False"
      ]
     },
     "execution_count": 32,
     "metadata": {},
     "output_type": "execute_result"
    }
   ],
   "source": [
    "((True and True) or False) and False"
   ]
  },
  {
   "cell_type": "code",
   "execution_count": 39,
   "metadata": {},
   "outputs": [
    {
     "name": "stdout",
     "output_type": "stream",
     "text": [
      "4\n",
      "1 2 3 4 \n"
     ]
    }
   ],
   "source": [
    "#while  loop\n",
    "n=int(input())\n",
    "i=1\n",
    "while i<=n :\n",
    "    print(i,end=\" \")\n",
    "    i+=1\n",
    "print()"
   ]
  },
  {
   "cell_type": "code",
   "execution_count": 2,
   "metadata": {},
   "outputs": [
    {
     "name": "stdout",
     "output_type": "stream",
     "text": [
      "5\n",
      "0 1 2 3 4 5 \n",
      "2 6 10 "
     ]
    }
   ],
   "source": [
    "#for loop and range\n",
    "n=int(input())\n",
    "for i in range(n+1): #by default range starts from 0\n",
    "    print(i,end=\" \")\n",
    "print()\n",
    "for i in range(2,12,4):\n",
    "    print(i,end=\" \")"
   ]
  },
  {
   "cell_type": "code",
   "execution_count": 54,
   "metadata": {},
   "outputs": [
    {
     "name": "stdout",
     "output_type": "stream",
     "text": [
      "31\n",
      "Prime\n"
     ]
    }
   ],
   "source": [
    "#prime number\n",
    "n=int(input())\n",
    "prime=True\n",
    "for i in range(2,n):\n",
    "    if n%i == 0:\n",
    "        prime=False\n",
    "        break\n",
    "if prime:\n",
    "    print(\"Prime\")\n",
    "else:\n",
    "    print(\"Not Prime\")"
   ]
  },
  {
   "cell_type": "code",
   "execution_count": 63,
   "metadata": {},
   "outputs": [
    {
     "name": "stdout",
     "output_type": "stream",
     "text": [
      "a b c d 1 2 3 45 234 545 "
     ]
    }
   ],
   "source": [
    "#fast iteration\n",
    "s=\"abcd\"\n",
    "for c in s:\n",
    "    print(c,end=\" \")\n",
    "tuple=(1,2,3)\n",
    "for b in tuple:\n",
    "    print (b,end=\" \")\n",
    "l=[45,234,545]\n",
    "for f in l:\n",
    "    print(f,end=\" \" )"
   ]
  },
  {
   "cell_type": "code",
   "execution_count": 10,
   "metadata": {},
   "outputs": [
    {
     "name": "stdout",
     "output_type": "stream",
     "text": [
      "a b c d "
     ]
    }
   ],
   "source": [
    "x = 'abcd'\n",
    "for i in x:\n",
    "     print(i, end = \" \")\n",
    "     x.upper()\n",
    "          "
   ]
  },
  {
   "cell_type": "code",
   "execution_count": 13,
   "metadata": {},
   "outputs": [
    {
     "name": "stdout",
     "output_type": "stream",
     "text": [
      "abcd\n",
      "a\n",
      "a\n",
      "a\n"
     ]
    }
   ],
   "source": [
    "x = 'abcd'\n",
    "for i in range(len(x)):\n",
    "   print(x)\n",
    "   x = 'a'\n"
   ]
  },
  {
   "cell_type": "code",
   "execution_count": 74,
   "metadata": {},
   "outputs": [
    {
     "name": "stdout",
     "output_type": "stream",
     "text": [
      "Welcome to Coding Ninjas\n",
      "emocleW ot gnidoC sajniN \n"
     ]
    }
   ],
   "source": [
    "def reverse(str):\n",
    "    s=''\n",
    "    for i in str:\n",
    "        s=i+s\n",
    "    return s\n",
    "s=input()\n",
    "a=s.split(' ')\n",
    "s=''\n",
    "for i in a:\n",
    "    i=reverse(i)\n",
    "    s=s+i+\" \"\n",
    "print(s)"
   ]
  },
  {
   "cell_type": "code",
   "execution_count": 89,
   "metadata": {},
   "outputs": [
    {
     "data": {
      "text/plain": [
       "6"
      ]
     },
     "execution_count": 89,
     "metadata": {},
     "output_type": "execute_result"
    }
   ],
   "source": [
    "#function\n",
    "def sum (a=3,b=4,c=3):\n",
    "    return a+b+c\n",
    "def power(x,y=2): #default arguments\n",
    "    return x**y\n",
    "sum(5,3)\n",
    "power(4)\n",
    "sum(b=0) #can specify an argumennt like this directly like did in print(i,end=\" \")"
   ]
  },
  {
   "cell_type": "code",
   "execution_count": 96,
   "metadata": {},
   "outputs": [
    {
     "name": "stdout",
     "output_type": "stream",
     "text": [
      "<class 'tuple'>\n",
      "(34, 34, 4)\n"
     ]
    },
    {
     "data": {
      "text/plain": [
       "102"
      ]
     },
     "execution_count": 96,
     "metadata": {},
     "output_type": "execute_result"
    }
   ],
   "source": [
    "#variable number of inputs to a function\n",
    "def sum_variable(a,b,*more):\n",
    "    ans=a+b\n",
    "    print(type(more))\n",
    "    print(more)\n",
    "    for i in more :\n",
    "        ans+=i\n",
    "    return ans\n",
    "\n",
    "sum_variable(10,20,34,34,4)"
   ]
  },
  {
   "cell_type": "code",
   "execution_count": 99,
   "metadata": {},
   "outputs": [
    {
     "name": "stdout",
     "output_type": "stream",
     "text": [
      "9\n",
      "20\n",
      "(9, 20)\n",
      "20\n"
     ]
    }
   ],
   "source": [
    "#more than one  return value\n",
    "def dummy (a,b):\n",
    "    return a+b,a*b\n",
    "sum,mul=dummy(5,4)\n",
    "print(sum)\n",
    "print (mul)\n",
    "a=dummy(5,4) # if only one catching it becomes tuple of all return values\n",
    "print(a)\n",
    "#in short  all stored in tuple CAN ACCESS then\n",
    "mul=dummy(4,5)[1]\n",
    "print(mul)"
   ]
  },
  {
   "cell_type": "code",
   "execution_count": 100,
   "metadata": {},
   "outputs": [
    {
     "name": "stdout",
     "output_type": "stream",
     "text": [
      "50\n"
     ]
    }
   ],
   "source": [
    "x = 50\n",
    "def change(x):\n",
    "     x = 2\n",
    "change(x)\n",
    "print(x)"
   ]
  },
  {
   "cell_type": "code",
   "execution_count": 105,
   "metadata": {},
   "outputs": [
    {
     "name": "stdout",
     "output_type": "stream",
     "text": [
      "400\n",
      "188\n"
     ]
    }
   ],
   "source": [
    "#https://www.geeksforgeeks.org/even-fibonacci-numbers-sum/\n",
    "limit=int (input())\n",
    "def evenfib(limit):\n",
    "  if limit<=2:\n",
    "  \treturn 0\n",
    "  first=0\n",
    "  second=2\n",
    "  sum=2\n",
    "  while  second<=limit:\n",
    "    nth=4*second+first\n",
    "    if  nth>limit:\n",
    "      break\n",
    "    sum+=nth\n",
    "    first=second\n",
    "    second=nth\n",
    "    \n",
    "  return sum\n",
    "\n",
    "print(evenfib(limit))"
   ]
  },
  {
   "cell_type": "code",
   "execution_count": null,
   "metadata": {
    "collapsed": true
   },
   "outputs": [],
   "source": []
  }
 ],
 "metadata": {
  "kernelspec": {
   "display_name": "Python 3",
   "language": "python",
   "name": "python3"
  },
  "language_info": {
   "codemirror_mode": {
    "name": "ipython",
    "version": 3
   },
   "file_extension": ".py",
   "mimetype": "text/x-python",
   "name": "python",
   "nbconvert_exporter": "python",
   "pygments_lexer": "ipython3",
   "version": "3.6.2"
  }
 },
 "nbformat": 4,
 "nbformat_minor": 2
}
