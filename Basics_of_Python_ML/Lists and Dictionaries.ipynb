{
 "cells": [
  {
   "cell_type": "code",
   "execution_count": 1,
   "metadata": {},
   "outputs": [
    {
     "name": "stdout",
     "output_type": "stream",
     "text": [
      "[0, 1, 2, 3, 4, 5, 6, 7, 8, 9]\n",
      "[0, 1, 4, 9, 16, 25, 36, 49, 64, 81]\n"
     ]
    },
    {
     "data": {
      "text/plain": [
       "['h', 'e', 'l', 'l', 'o']"
      ]
     },
     "execution_count": 1,
     "metadata": {},
     "output_type": "execute_result"
    }
   ],
   "source": [
    "\n",
    "a=[1,2,3]\n",
    "type(a)\n",
    "\n",
    "a1=list() #empty list\n",
    "a1\n",
    "\n",
    "a2=list(a)\n",
    "a2\n",
    "\n",
    "a4=[i for  i in range(10)]\n",
    "print(a4)\n",
    "a5=[i*i for i in range(10)]\n",
    "print(a5)\n",
    "\n",
    "a6=[1,2,'as',True]\n",
    "a6\n",
    "list(\"hello\")"
   ]
  },
  {
   "cell_type": "code",
   "execution_count": 39,
   "metadata": {},
   "outputs": [
    {
     "name": "stdout",
     "output_type": "stream",
     "text": [
      "1\n",
      "3\n",
      "[1, 4]\n",
      "1 2 3 "
     ]
    }
   ],
   "source": [
    "print(a[0])\n",
    "print(a[-1])\n",
    "print(a5[1:3])\n",
    "len(a)\n",
    "\n",
    "#fast iterate\n",
    "for i in a :\n",
    "    print(i,end=\" \")"
   ]
  },
  {
   "cell_type": "code",
   "execution_count": 32,
   "metadata": {},
   "outputs": [
    {
     "name": "stdout",
     "output_type": "stream",
     "text": [
      "['a', 'b', 'c', 'd']\n",
      "['', 'a', 'b', 'c', 'd']\n",
      "2\n",
      "2\n"
     ]
    },
    {
     "data": {
      "text/plain": [
       "[2]"
      ]
     },
     "execution_count": 32,
     "metadata": {},
     "output_type": "execute_result"
    }
   ],
   "source": [
    "#user input\n",
    "\n",
    "str='a b c d'\n",
    "print(str.split(\" \"))\n",
    "str=' a b c d'\n",
    "print(str.split(\" \"))\n",
    "\n",
    "\n",
    "\n",
    "inp=input().strip() #deletes spaces from  beginning\n",
    "lists=inp.split()\n",
    "\n",
    "for i in range(len(lists)):\n",
    "    lists[i]=int (lists[i])\n",
    "lists\n",
    "\n",
    " \n",
    "#doing these 3 steps in 1 step to take array input\n",
    "l=[int (x) for x in input().strip().split(\" \")]\n",
    "l\n"
   ]
  },
  {
   "cell_type": "code",
   "execution_count": 65,
   "metadata": {},
   "outputs": [
    {
     "data": {
      "text/plain": [
       "[1, 'abhianv', 'ac', 3, 2, 4, 5, 6, 4, 5, 6, 7]"
      ]
     },
     "execution_count": 65,
     "metadata": {},
     "output_type": "execute_result"
    }
   ],
   "source": [
    "#add elements in a list\n",
    "l=[1,'ac',3]\n",
    "l.append(2)\n",
    "l.insert(1,'abhianv')\n",
    "l2=[4,5,6,4,5,6,7]\n",
    "l.extend(l2)\n",
    "l"
   ]
  },
  {
   "cell_type": "code",
   "execution_count": 66,
   "metadata": {},
   "outputs": [
    {
     "name": "stdout",
     "output_type": "stream",
     "text": [
      "[1, 'abhianv', 'ac', 3, 2, 4, 5, 6, 4, 5, 6]\n",
      "[1, 'abhianv', 3, 2, 4, 5, 6, 4, 5, 6]\n"
     ]
    },
    {
     "data": {
      "text/plain": [
       "[1, 4, 5, 6, 4, 5, 6]"
      ]
     },
     "execution_count": 66,
     "metadata": {},
     "output_type": "execute_result"
    }
   ],
   "source": [
    "#deletion\n",
    "l.pop() #dedfault last\n",
    "print(l)\n",
    "l.pop(2)#element at index  2 removed\n",
    "print(l)\n",
    "l.remove('abhianv') #deletion this value's first occurance\n",
    "\n",
    "del l[1:3] \n",
    "l"
   ]
  },
  {
   "cell_type": "markdown",
   "metadata": {},
   "source": [
    "#addition of list with int is not ok\n",
    "#multiplication is fine"
   ]
  },
  {
   "cell_type": "code",
   "execution_count": 67,
   "metadata": {},
   "outputs": [
    {
     "data": {
      "text/plain": [
       "[1, 4, 5, 6, 4, 5, 6, 1, 4, 5, 6, 4, 5, 6]"
      ]
     },
     "execution_count": 67,
     "metadata": {},
     "output_type": "execute_result"
    }
   ],
   "source": [
    "l*2"
   ]
  },
  {
   "cell_type": "code",
   "execution_count": 74,
   "metadata": {},
   "outputs": [
    {
     "name": "stdout",
     "output_type": "stream",
     "text": [
      "[1, 4, 4, 5, 5, 6, 6]\n",
      "2\n",
      "1\n",
      "[6, 6, 5, 5, 4, 4, 1]\n"
     ]
    },
    {
     "data": {
      "text/plain": [
       "False"
      ]
     },
     "execution_count": 74,
     "metadata": {},
     "output_type": "execute_result"
    }
   ],
   "source": [
    "l.sort()\n",
    "print(l)\n",
    "print(l.count(4)) #count of particular element\n",
    "print(l.index(4))\n",
    "l.reverse()\n",
    "print(l)\n",
    "\n",
    "7 in l ##NICE"
   ]
  },
  {
   "cell_type": "code",
   "execution_count": 75,
   "metadata": {},
   "outputs": [
    {
     "name": "stdout",
     "output_type": "stream",
     "text": [
      "['h', 'e', 'l', 'l', 'o']\n"
     ]
    }
   ],
   "source": [
    "print([i.lower() for i in \"HELLO\"])"
   ]
  },
  {
   "cell_type": "code",
   "execution_count": 77,
   "metadata": {},
   "outputs": [
    {
     "data": {
      "text/plain": [
       "[1, 2, 3, 4, 5, 6]"
      ]
     },
     "execution_count": 77,
     "metadata": {},
     "output_type": "execute_result"
    }
   ],
   "source": [
    "#BUBBLE SORT\n",
    "l=[3,2,4,6,1,5]\n",
    "n=len(l)\n",
    "for j in range(n-1):\n",
    "    for i in range(n-1-j):\n",
    "        if (l[i]>l[i+1]):\n",
    "            t=l[i]\n",
    "            l[i]=l[i+1]\n",
    "            l[i+1]=t\n",
    "l"
   ]
  },
  {
   "cell_type": "code",
   "execution_count": 86,
   "metadata": {},
   "outputs": [
    {
     "name": "stdout",
     "output_type": "stream",
     "text": [
      "4\n",
      "7 8 3 90\n",
      "[3, 7, 8, 90]\n"
     ]
    }
   ],
   "source": [
    "#selection\n",
    "n=int(input())\n",
    "a=[int (x) for x in input().strip().split(\" \")]\n",
    "\n",
    "for i in range(n):\n",
    "    min=i\n",
    "    for j in range(i,n):\n",
    "         if (a[j]<a[min]):\n",
    "            min=j\n",
    "    if (i!=min):\n",
    "        t=a[i]\n",
    "        a[i]=a[min]\n",
    "        a[min]=t\n",
    "        \n",
    "print(a)"
   ]
  },
  {
   "cell_type": "code",
   "execution_count": 96,
   "metadata": {},
   "outputs": [
    {
     "name": "stdout",
     "output_type": "stream",
     "text": [
      "{23: 34, 'str': 345}\n",
      "5:abhinav\n",
      "ram:True\n"
     ]
    }
   ],
   "source": [
    "#Dictionaries\n",
    "#Keys are/should be immutable\n",
    "d={}\n",
    "d[23]=34\n",
    "d['str']=345 # if new key -> insert ... if existing key -> update\n",
    "print(d)\n",
    "d={5:'abhinav','ram':True}\n",
    "for i in d:\n",
    "    print (i,end=\":\")\n",
    "    print(d[i])"
   ]
  },
  {
   "cell_type": "code",
   "execution_count": 95,
   "metadata": {},
   "outputs": [
    {
     "data": {
      "text/plain": [
       "{'ram': True}"
      ]
     },
     "execution_count": 95,
     "metadata": {},
     "output_type": "execute_result"
    }
   ],
   "source": [
    "#delete\n",
    "del d[5]\n",
    "d"
   ]
  },
  {
   "cell_type": "code",
   "execution_count": 106,
   "metadata": {},
   "outputs": [
    {
     "name": "stdout",
     "output_type": "stream",
     "text": [
      "True\n",
      "1\n",
      "dict_keys([2])\n",
      "dict_values([1])\n"
     ]
    },
    {
     "data": {
      "text/plain": [
       "True"
      ]
     },
     "execution_count": 106,
     "metadata": {},
     "output_type": "execute_result"
    }
   ],
   "source": [
    "#Common functions\n",
    "d1={}\n",
    "d1[2]=1\n",
    "d2={}\n",
    "d2[2]=1\n",
    "print(d1==d2)\n",
    "print(len(d1)) #no of keys\n",
    "d1.clear()\n",
    "d1\n",
    "print (d2.keys()) #list of keys\n",
    "print(d2.values()) #list of values\n",
    "2 in d2 # key- 2 is present  "
   ]
  },
  {
   "cell_type": "code",
   "execution_count": 110,
   "metadata": {},
   "outputs": [
    {
     "data": {
      "text/plain": [
       "False"
      ]
     },
     "execution_count": 110,
     "metadata": {},
     "output_type": "execute_result"
    }
   ],
   "source": [
    "    d1 = {\"john\":40, \"peter\":45}\n",
    "    d2 = {\"john\":466, \"peter\":45}\n",
    "    d1 == d2"
   ]
  },
  {
   "cell_type": "code",
   "execution_count": 111,
   "metadata": {},
   "outputs": [
    {
     "name": "stdout",
     "output_type": "stream",
     "text": [
      "Welcome to coding ninjas\n"
     ]
    },
    {
     "ename": "AttributeError",
     "evalue": "'str' object has no attribute 'reverse'",
     "output_type": "error",
     "traceback": [
      "\u001b[1;31m---------------------------------------------------------------------------\u001b[0m",
      "\u001b[1;31mAttributeError\u001b[0m                            Traceback (most recent call last)",
      "\u001b[1;32m<ipython-input-111-361f281d896e>\u001b[0m in \u001b[0;36m<module>\u001b[1;34m()\u001b[0m\n\u001b[0;32m      1\u001b[0m \u001b[0mstr\u001b[0m\u001b[1;33m=\u001b[0m\u001b[0minput\u001b[0m\u001b[1;33m(\u001b[0m\u001b[1;33m)\u001b[0m\u001b[1;33m\u001b[0m\u001b[0m\n\u001b[1;32m----> 2\u001b[1;33m \u001b[0mstr\u001b[0m\u001b[1;33m.\u001b[0m\u001b[0mreverse\u001b[0m\u001b[1;33m(\u001b[0m\u001b[1;33m)\u001b[0m\u001b[1;33m\u001b[0m\u001b[0m\n\u001b[0m\u001b[0;32m      3\u001b[0m \u001b[0ma\u001b[0m\u001b[1;33m=\u001b[0m\u001b[0mstr\u001b[0m\u001b[1;33m.\u001b[0m\u001b[0msplit\u001b[0m\u001b[1;33m(\u001b[0m\u001b[1;34m\" \"\u001b[0m\u001b[1;33m)\u001b[0m\u001b[1;33m\u001b[0m\u001b[0m\n\u001b[0;32m      4\u001b[0m \u001b[1;32mfor\u001b[0m \u001b[0mi\u001b[0m \u001b[1;32min\u001b[0m \u001b[0ma\u001b[0m\u001b[1;33m:\u001b[0m\u001b[1;33m\u001b[0m\u001b[0m\n\u001b[0;32m      5\u001b[0m     \u001b[0mi\u001b[0m\u001b[1;33m.\u001b[0m\u001b[0mreverse\u001b[0m\u001b[1;33m(\u001b[0m\u001b[1;33m)\u001b[0m\u001b[1;33m\u001b[0m\u001b[0m\n",
      "\u001b[1;31mAttributeError\u001b[0m: 'str' object has no attribute 'reverse'"
     ]
    }
   ],
   "source": [
    "str=input()\n",
    "str.reverse()\n",
    "a=str.split(\" \")\n",
    "for i in a:\n",
    "    i.reverse()\n",
    "    print(i)    "
   ]
  },
  {
   "cell_type": "code",
   "execution_count": 113,
   "metadata": {},
   "outputs": [
    {
     "name": "stdout",
     "output_type": "stream",
     "text": [
      "sfs\n"
     ]
    },
    {
     "ename": "NameError",
     "evalue": "name 'xrange' is not defined",
     "output_type": "error",
     "traceback": [
      "\u001b[1;31m---------------------------------------------------------------------------\u001b[0m",
      "\u001b[1;31mNameError\u001b[0m                                 Traceback (most recent call last)",
      "\u001b[1;32m<ipython-input-113-f7d861a66aea>\u001b[0m in \u001b[0;36m<module>\u001b[1;34m()\u001b[0m\n\u001b[0;32m     49\u001b[0m     \u001b[1;32mreturn\u001b[0m \u001b[0mmax_len\u001b[0m\u001b[1;33m\u001b[0m\u001b[0m\n\u001b[0;32m     50\u001b[0m \u001b[1;33m\u001b[0m\u001b[0m\n\u001b[1;32m---> 51\u001b[1;33m \u001b[0mprint\u001b[0m\u001b[1;33m(\u001b[0m\u001b[0mlongestUniqueSubsttr\u001b[0m\u001b[1;33m(\u001b[0m\u001b[0minput\u001b[0m\u001b[1;33m(\u001b[0m\u001b[1;33m)\u001b[0m\u001b[1;33m)\u001b[0m\u001b[1;33m)\u001b[0m\u001b[1;33m\u001b[0m\u001b[0m\n\u001b[0m",
      "\u001b[1;32m<ipython-input-113-f7d861a66aea>\u001b[0m in \u001b[0;36mlongestUniqueSubsttr\u001b[1;34m(string)\u001b[0m\n\u001b[0;32m     18\u001b[0m     \u001b[1;31m# processed (cur_len and max_len are initialized as 1, and\u001b[0m\u001b[1;33m\u001b[0m\u001b[1;33m\u001b[0m\u001b[0m\n\u001b[0;32m     19\u001b[0m     \u001b[1;31m# visited[str[0]] is set\u001b[0m\u001b[1;33m\u001b[0m\u001b[1;33m\u001b[0m\u001b[0m\n\u001b[1;32m---> 20\u001b[1;33m     \u001b[1;32mfor\u001b[0m \u001b[0mi\u001b[0m \u001b[1;32min\u001b[0m \u001b[0mxrange\u001b[0m\u001b[1;33m(\u001b[0m\u001b[1;36m1\u001b[0m\u001b[1;33m,\u001b[0m\u001b[0mn\u001b[0m\u001b[1;33m)\u001b[0m\u001b[1;33m:\u001b[0m\u001b[1;33m\u001b[0m\u001b[0m\n\u001b[0m\u001b[0;32m     21\u001b[0m         \u001b[0mprev_index\u001b[0m \u001b[1;33m=\u001b[0m \u001b[0mvisited\u001b[0m\u001b[1;33m[\u001b[0m\u001b[0mord\u001b[0m\u001b[1;33m(\u001b[0m\u001b[0mstring\u001b[0m\u001b[1;33m[\u001b[0m\u001b[0mi\u001b[0m\u001b[1;33m]\u001b[0m\u001b[1;33m)\u001b[0m\u001b[1;33m]\u001b[0m\u001b[1;33m\u001b[0m\u001b[0m\n\u001b[0;32m     22\u001b[0m \u001b[1;33m\u001b[0m\u001b[0m\n",
      "\u001b[1;31mNameError\u001b[0m: name 'xrange' is not defined"
     ]
    }
   ],
   "source": [
    "NO_OF_CHARS = 256\n",
    "def longestUniqueSubsttr(string):\n",
    "    n = len(string)\n",
    "    cur_len = 1        # To store the lenght of current substring\n",
    "    max_len = 1        # To store the result\n",
    "    prev_index = 0    # To store the previous index\n",
    "    i = 0\n",
    " \n",
    "    # Initialize the visited array as -1, -1 is used to indicate\n",
    "    # that character has not been visited yet.\n",
    "    visited = [-1] * NO_OF_CHARS\n",
    " \n",
    "    # Mark first character as visited by storing the index of\n",
    "    # first character in visited array.\n",
    "    visited[ord(string[0])] = 0\n",
    " \n",
    "    # Start from the second character. First character is already\n",
    "    # processed (cur_len and max_len are initialized as 1, and\n",
    "    # visited[str[0]] is set\n",
    "    for i in xrange(1,n):\n",
    "        prev_index = visited[ord(string[i])]\n",
    " \n",
    "        # If the currentt character is not present in the already\n",
    "        # processed substring or it is not part of the current NRCS,\n",
    "        # then do cur_len++\n",
    "        if prev_index == -1 or (i - cur_len > prev_index):\n",
    "            cur_len+=1\n",
    " \n",
    "        # If the current character is present in currently considered\n",
    "        # NRCS, then update NRCS to start from the next character of\n",
    "        # previous instance.\n",
    "        else:\n",
    "            # Also, when we are changing the NRCS, we should also\n",
    "            # check whether length of the previous NRCS was greater\n",
    "            # than max_len or not.\n",
    "            if cur_len > max_len:\n",
    "                max_len = cur_len\n",
    " \n",
    "            cur_len = i - prev_index\n",
    " \n",
    "        # update the index of current character\n",
    "        visited[ord(string[i])] = i\n",
    " \n",
    "    # Compare the length of last NRCS with max_len and update\n",
    "    # max_len if needed\n",
    "    if cur_len > max_len:\n",
    "        max_len = cur_len\n",
    " \n",
    "    return max_len\n",
    "\n",
    "print(longestUniqueSubsttr(input()))"
   ]
  },
  {
   "cell_type": "code",
   "execution_count": null,
   "metadata": {
    "collapsed": true
   },
   "outputs": [],
   "source": []
  }
 ],
 "metadata": {
  "kernelspec": {
   "display_name": "Python 3",
   "language": "python",
   "name": "python3"
  },
  "language_info": {
   "codemirror_mode": {
    "name": "ipython",
    "version": 3
   },
   "file_extension": ".py",
   "mimetype": "text/x-python",
   "name": "python",
   "nbconvert_exporter": "python",
   "pygments_lexer": "ipython3",
   "version": "3.6.2"
  }
 },
 "nbformat": 4,
 "nbformat_minor": 2
}
