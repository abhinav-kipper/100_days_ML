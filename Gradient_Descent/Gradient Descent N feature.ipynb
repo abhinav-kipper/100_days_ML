{
 "cells": [
  {
   "cell_type": "code",
   "execution_count": 75,
   "metadata": {},
   "outputs": [
    {
     "data": {
      "text/plain": [
       "(126, 14)"
      ]
     },
     "execution_count": 75,
     "metadata": {},
     "output_type": "execute_result"
    }
   ],
   "source": [
    "################### NEEDS DEBUGGING############################\n",
    "###########DONT RUN#####################\n",
    "import numpy as np\n",
    "import pandas as pd\n",
    "data=pd.read_csv('boston_x_y_train.csv')\n",
    "xtest=pd.read_csv('boston_x_test.csv')\n",
    "data.shape # only 1 feature in our data\n",
    "xtrain=data.iloc[0:,:-1]\n",
    "xtrain['c(Mn+1)']=1\n",
    "ytrain=data.iloc[:,-1]\n",
    "xtrain\n",
    "ytrain\n",
    "xtest['c(Mn+1)']=1\n",
    "xtest.shape"
   ]
  },
  {
   "cell_type": "code",
   "execution_count": 48,
   "metadata": {
    "collapsed": true
   },
   "outputs": [],
   "source": [
    "def step_gradient(xtrain,ytrain,learning_rate,m):\n",
    "    m_slope=np.zeros(14)\n",
    "  \n",
    "    M=len(xtrain)\n",
    "    for i in range(M): #100 rows here\n",
    "        x=xtrain.iloc[i]\n",
    "        y=ytrain.iloc[i]\n",
    "        for j in range(14):\n",
    "            m_slope+=(-2/M)*(y-m*x)*x[j] #for 1 ..after for loop its summation\n",
    "        \n",
    "    new_m=m-learning_rate*m_slope\n",
    "\n",
    "    return new_m"
   ]
  },
  {
   "cell_type": "code",
   "execution_count": 64,
   "metadata": {
    "collapsed": true
   },
   "outputs": [],
   "source": [
    "def gd(xtrain,ytrain,learning_rate,num_iterations):\n",
    "    m=np.zeros(14) #starts with random values of m and c\n",
    "    \n",
    "    for i in range (num_iterations):\n",
    "        m=step_gradient(xtrain,ytrain,learning_rate,m)\n",
    "        #print(i,\" Cost\",cost(xtrain,ytrain,m))\n",
    "    return m"
   ]
  },
  {
   "cell_type": "code",
   "execution_count": 120,
   "metadata": {
    "collapsed": true
   },
   "outputs": [],
   "source": [
    "def cost(xtrain,ytrain,m):\n",
    "    total_cost=0\n",
    "    M=len(xtrain)\n",
    "   \n",
    "    for i in range(M):\n",
    "        x=xtrain.iloc[i]\n",
    "        y=ytrain.iloc[i]\n",
    "        total_cost+=(1/M)*((y-m*x)**2)\n",
    "    return total_cost\n",
    "def predict(x, m):\n",
    "    output=np.arange(126)\n",
    "    for i in range (126):\n",
    "        output[i]=(x.iloc[i,:]*m).sum()\n",
    "    return output\n"
   ]
  },
  {
   "cell_type": "code",
   "execution_count": 123,
   "metadata": {
    "collapsed": true
   },
   "outputs": [],
   "source": [
    "#for now using whole data not splitting in testing and training\n",
    "#parameters to gradient descent - DATA , ALPHA , NO_OF_ITERATIONS\n",
    "def run():\n",
    "    \n",
    "    learning_rate=0.0001\n",
    "    num_iterations=10\n",
    "    m=gd(xtrain,ytrain,learning_rate,num_iterations)\n",
    "    \n",
    "    ytest=predict(xtest,m)\n",
    "    print(ytest)\n",
    "    #np.savetxt(\"gradNfeatureOUTPUT.csv\",ytest,delimiter=\",\")"
   ]
  },
  {
   "cell_type": "code",
   "execution_count": 124,
   "metadata": {},
   "outputs": [
    {
     "name": "stdout",
     "output_type": "stream",
     "text": [
      "[0 0 0 0 0 0 0 0 0 0 0 0 0 0 0 0 0 0 0 0 0 0 0 0 0 0 0 0 0 0 0 0 0 0 0 0 0\n",
      " 0 0 0 0 0 0 0 0 0 0 0 0 0 0 0 0 0 0 0 0 0 0 0 0 0 0 0 0 0 0 0 0 0 0 0 0 0\n",
      " 0 0 0 0 0 0 0 0 0 0 0 0 0 0 0 0 0 0 0 0 0 0 0 0 0 0 0 0 0 0 0 0 0 0 0 0 0\n",
      " 0 0 0 0 0 0 0 0 0 0 0 0 0 0 0]\n"
     ]
    }
   ],
   "source": [
    "run()\n",
    "\n"
   ]
  },
  {
   "cell_type": "code",
   "execution_count": null,
   "metadata": {
    "collapsed": true
   },
   "outputs": [],
   "source": [
    "# run with alpha= 0.00001 to see how slow learning rate works"
   ]
  }
 ],
 "metadata": {
  "kernelspec": {
   "display_name": "Python 3",
   "language": "python",
   "name": "python3"
  },
  "language_info": {
   "codemirror_mode": {
    "name": "ipython",
    "version": 3
   },
   "file_extension": ".py",
   "mimetype": "text/x-python",
   "name": "python",
   "nbconvert_exporter": "python",
   "pygments_lexer": "ipython3",
   "version": "3.6.2"
  }
 },
 "nbformat": 4,
 "nbformat_minor": 2
}
