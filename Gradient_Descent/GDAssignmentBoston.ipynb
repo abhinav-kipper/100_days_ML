{
 "cells": [
  {
   "cell_type": "code",
   "execution_count": 1,
   "metadata": {},
   "outputs": [
    {
     "data": {
      "text/plain": [
       "array([[ -0.40784991,  -0.48772236,  -1.2660231 , ...,   0.41057102,\n",
       "         -1.09799011,  37.9       ],\n",
       "       [ -0.40737368,  -0.48772236,   0.24705682, ...,   0.29116915,\n",
       "         -0.52047412,  21.4       ],\n",
       "       [  0.1251786 ,  -0.48772236,   1.01599907, ...,  -3.79579542,\n",
       "          0.89107588,  12.7       ],\n",
       "       ..., \n",
       "       [ -0.40831101,  -0.48772236,   0.24705682, ...,   0.33206621,\n",
       "         -0.33404299,  20.8       ],\n",
       "       [ -0.41061997,  -0.48772236,  -1.15221381, ...,   0.203235  ,\n",
       "         -0.74475218,  22.6       ],\n",
       "       [  0.34290895,  -0.48772236,   1.01599907, ...,   0.38787479,\n",
       "         -1.35871335,  50.        ]])"
      ]
     },
     "execution_count": 1,
     "metadata": {},
     "output_type": "execute_result"
    }
   ],
   "source": [
    "import numpy as np\n",
    "data=np.loadtxt(\"boston_x_y_train.csv\",delimiter=\",\")\n",
    "xtest=np.loadtxt(\"boston_x_test.csv\",delimiter=\",\")\n",
    "xtest\n",
    "data"
   ]
  },
  {
   "cell_type": "code",
   "execution_count": 4,
   "metadata": {},
   "outputs": [
    {
     "name": "stdout",
     "output_type": "stream",
     "text": [
      "(127, 13)\n",
      "(379, 13)\n",
      "(379,)\n"
     ]
    },
    {
     "data": {
      "text/plain": [
       "array([[-0.40784991, -0.48772236, -1.2660231 , ..., -0.30309415,\n",
       "         0.41057102, -1.09799011],\n",
       "       [-0.40737368, -0.48772236,  0.24705682, ...,  0.1130321 ,\n",
       "         0.29116915, -0.52047412],\n",
       "       [ 0.1251786 , -0.48772236,  1.01599907, ...,  0.80657583,\n",
       "        -3.79579542,  0.89107588],\n",
       "       ..., \n",
       "       [-0.40831101, -0.48772236,  0.24705682, ...,  0.1130321 ,\n",
       "         0.33206621, -0.33404299],\n",
       "       [-0.41061997, -0.48772236, -1.15221381, ..., -0.71922039,\n",
       "         0.203235  , -0.74475218],\n",
       "       [ 0.34290895, -0.48772236,  1.01599907, ...,  0.80657583,\n",
       "         0.38787479, -1.35871335]])"
      ]
     },
     "execution_count": 4,
     "metadata": {},
     "output_type": "execute_result"
    }
   ],
   "source": [
    "xtrain=data[:,:-1]\n",
    "ytrain=data[:,-1]\n",
    "\n",
    "print(xtest.shape)\n",
    "print(xtrain.shape)\n",
    "print(ytrain.shape)\n",
    "xtrain"
   ]
  },
  {
   "cell_type": "code",
   "execution_count": null,
   "metadata": {
    "collapsed": true
   },
   "outputs": [],
   "source": [
    "\n"
   ]
  },
  {
   "cell_type": "code",
   "execution_count": 10,
   "metadata": {},
   "outputs": [
    {
     "data": {
      "text/plain": [
       "SGDRegressor(alpha=0.0001, average=False, epsilon=0.1, eta0=0.01,\n",
       "       fit_intercept=True, l1_ratio=0.15, learning_rate='invscaling',\n",
       "       loss='squared_loss', max_iter=100, n_iter=None, penalty='l2',\n",
       "       power_t=0.25, random_state=None, shuffle=True, tol=None, verbose=0,\n",
       "       warm_start=False)"
      ]
     },
     "execution_count": 10,
     "metadata": {},
     "output_type": "execute_result"
    }
   ],
   "source": [
    "from sklearn.linear_model import SGDRegressor\n",
    "clf=SGDRegressor(max_iter=100)\n",
    "clf.fit(xtrain,ytrain)"
   ]
  },
  {
   "cell_type": "code",
   "execution_count": 11,
   "metadata": {},
   "outputs": [
    {
     "data": {
      "text/plain": [
       "array([-0.93542977,  0.72940469, -0.08030132,  0.78182708, -2.17853367,\n",
       "        2.36133969,  0.106937  , -2.94119712,  2.35632608, -1.51774332,\n",
       "       -2.25843913,  0.58735679, -4.26416109])"
      ]
     },
     "execution_count": 11,
     "metadata": {},
     "output_type": "execute_result"
    }
   ],
   "source": [
    "clf.coef_"
   ]
  },
  {
   "cell_type": "code",
   "execution_count": 12,
   "metadata": {},
   "outputs": [
    {
     "data": {
      "text/plain": [
       "array([ 22.68372023])"
      ]
     },
     "execution_count": 12,
     "metadata": {},
     "output_type": "execute_result"
    }
   ],
   "source": [
    "clf.intercept_"
   ]
  },
  {
   "cell_type": "code",
   "execution_count": 13,
   "metadata": {
    "collapsed": true
   },
   "outputs": [],
   "source": [
    "ytest=clf.predict(xtest)"
   ]
  },
  {
   "cell_type": "code",
   "execution_count": 14,
   "metadata": {
    "collapsed": true
   },
   "outputs": [],
   "source": [
    "np.savetxt(\"GDAssignmentBoston.csv\",ytest,delimiter=\",\")"
   ]
  },
  {
   "cell_type": "code",
   "execution_count": null,
   "metadata": {
    "collapsed": true
   },
   "outputs": [],
   "source": []
  }
 ],
 "metadata": {
  "kernelspec": {
   "display_name": "Python 3",
   "language": "python",
   "name": "python3"
  },
  "language_info": {
   "codemirror_mode": {
    "name": "ipython",
    "version": 3
   },
   "file_extension": ".py",
   "mimetype": "text/x-python",
   "name": "python",
   "nbconvert_exporter": "python",
   "pygments_lexer": "ipython3",
   "version": "3.6.2"
  }
 },
 "nbformat": 4,
 "nbformat_minor": 2
}
