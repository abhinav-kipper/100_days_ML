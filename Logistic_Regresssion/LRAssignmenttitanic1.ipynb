{
 "cells": [
  {
   "cell_type": "code",
   "execution_count": null,
   "metadata": {
    "collapsed": true
   },
   "outputs": [],
   "source": []
  },
  {
   "cell_type": "code",
   "execution_count": null,
   "metadata": {
    "collapsed": true
   },
   "outputs": [],
   "source": [
    "import pandas as pd\n",
    "df=pd.read_csv(\"titanic_x_y_train.csv\")"
   ]
  },
  {
   "cell_type": "code",
   "execution_count": null,
   "metadata": {},
   "outputs": [],
   "source": [
    "target=df.Survived\n",
    "target\n",
    "\n",
    "data=df.iloc[0:,:-1]\n",
    "data.drop('Name',axis=1,inplace=True)\n",
    "data.drop('Cabin',axis=1,inplace=True)\n",
    "data.drop('Ticket',axis=1,inplace=True)\n",
    "\n",
    "\n",
    "\n",
    "#data..fillna(data.Age.mean(),inplace=True)\n",
    "def f(s):\n",
    "    if s=='male':\n",
    "        return 0\n",
    "    return 1\n",
    "def t(s):\n",
    "    if s=='S':\n",
    "        return 1\n",
    "    if s=='C':\n",
    "        return  2\n",
    "    if s=='Q':\n",
    "        return 3\n",
    "data['intsex']=data.Sex.apply(f) #takes function and applies it to all entries\n",
    "data['intembarked']=data.Embarked.apply(t)\n",
    "data.drop('Sex',axis=1,inplace=True)\n",
    "data.drop('Embarked',axis=1,inplace=True)\n",
    "\n",
    "df.reset_index(drop=True,inplace=True)\n",
    "#print(np.isnan(data))\n",
    "#print(np.isfinite(data))\n",
    "\n",
    "\n",
    "#print(data.intembarked.isnull().sum().sum()) #tells no of nulls\n",
    "data.intembarked.fillna(data.intembarked.mean(),inplace=True)\n",
    "#print(data.intembarked.isnull().sum().sum()) #tells no of nulls\n",
    "#print(data.Age.isnull().sum().sum()) #tells no of nulls\n",
    "data.Age.fillna(data.Age.mean(),inplace=True)\n",
    "#data.tail(638)"
   ]
  },
  {
   "cell_type": "code",
   "execution_count": null,
   "metadata": {
    "collapsed": true
   },
   "outputs": [],
   "source": [
    "from sklearn import datasets\n",
    "from sklearn.linear_model import LogisticRegression \n"
   ]
  },
  {
   "cell_type": "code",
   "execution_count": null,
   "metadata": {},
   "outputs": [],
   "source": [
    "clf=LogisticRegression() #max_iter=100000,multi_class='multinomial',solver='sag'\n",
    "clf.fit(data,target)"
   ]
  },
  {
   "cell_type": "code",
   "execution_count": null,
   "metadata": {
    "collapsed": true
   },
   "outputs": [],
   "source": [
    "testdf=pd.read_csv(\"titanic_x_test.csv\")"
   ]
  },
  {
   "cell_type": "code",
   "execution_count": null,
   "metadata": {},
   "outputs": [],
   "source": [
    "\n",
    "\n",
    "\n",
    "testdf.drop('Name',axis=1,inplace=True)\n",
    "testdf.drop('Cabin',axis=1,inplace=True)\n",
    "testdf.drop('Ticket',axis=1,inplace=True)\n",
    "\n",
    "\n",
    "\n",
    "#data..fillna(data.Age.mean(),inplace=True)\n",
    "\n",
    "testdf['intsex']=testdf.Sex.apply(f) #takes function and applies it to all entries\n",
    "testdf['intembarked']=testdf.Embarked.apply(t)\n",
    "testdf.drop('Sex',axis=1,inplace=True)\n",
    "testdf.drop('Embarked',axis=1,inplace=True)\n",
    "\n",
    "testdf.reset_index(drop=True,inplace=True)\n",
    "#print(np.isnan(data))\n",
    "#print(np.isfinite(data))\n",
    "\n",
    "\n",
    "#print(testdf.intembarked.isnull().sum().sum()) #tells no of nulls\n",
    "testdf.intembarked.fillna(testdf.intembarked.mean(),inplace=True)\n",
    "#print(testdf.intembarked.isnull().sum().sum()) #tells no of nulls\n",
    "#print(testdf.Age.isnull().sum().sum()) #tells no of nulls\n",
    "testdf.Age.fillna(testdf.Age.mean(),inplace=True)\n",
    "testdf.tail(638)"
   ]
  },
  {
   "cell_type": "code",
   "execution_count": null,
   "metadata": {},
   "outputs": [],
   "source": [
    "import numpy as np\n",
    "\n",
    "ytest=clf.predict(testdf)\n",
    "type(ytest)\n",
    "ytest.shape\n"
   ]
  },
  {
   "cell_type": "code",
   "execution_count": null,
   "metadata": {},
   "outputs": [],
   "source": [
    "np.savetxt(\"lrassign.csv\",ytest,delimiter=\",\",fmt=\"%.2f\")"
   ]
  },
  {
   "cell_type": "code",
   "execution_count": null,
   "metadata": {},
   "outputs": [],
   "source": []
  },
  {
   "cell_type": "code",
   "execution_count": null,
   "metadata": {
    "collapsed": true
   },
   "outputs": [],
   "source": []
  }
 ],
 "metadata": {
  "kernelspec": {
   "display_name": "Python 3",
   "language": "python",
   "name": "python3"
  },
  "language_info": {
   "codemirror_mode": {
    "name": "ipython",
    "version": 3
   },
   "file_extension": ".py",
   "mimetype": "text/x-python",
   "name": "python",
   "nbconvert_exporter": "python",
   "pygments_lexer": "ipython3",
   "version": "3.6.2"
  }
 },
 "nbformat": 4,
 "nbformat_minor": 2
}
