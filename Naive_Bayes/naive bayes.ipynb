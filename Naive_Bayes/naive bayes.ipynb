{
 "cells": [
  {
   "cell_type": "code",
   "execution_count": 1,
   "metadata": {
    "collapsed": true
   },
   "outputs": [],
   "source": [
    "import  numpy as np"
   ]
  },
  {
   "cell_type": "code",
   "execution_count": 26,
   "metadata": {},
   "outputs": [],
   "source": [
    "def fit(X_train,Y_train):\n",
    "    result={}\n",
    "    class_values=set(Y_train)\n",
    "    for current_class in class_values:\n",
    "        result[current_class]={}\n",
    "        result[\"total_data\"]=len(Y_train)\n",
    "        current_class_rows=(Y_train==current_class)\n",
    "        X_train_current=X_train[current_class_rows]\n",
    "        Y_train_current=Y_train[current_class_rows]\n",
    "        num_features=X_train.shape[1]\n",
    "        result[current_class][\"total_count\"]=len(Y_train_current)\n",
    "        for j in range(1,num_features+1):\n",
    "            result[current_class][j]={}\n",
    "            all_possible_values=set(X_train[:,j-1])\n",
    "            for current_value  in all_possible_values:\n",
    "                result[current_class][j][current_value]=(X_train_current[:,j-1]==current_value).sum()\n",
    "            \n",
    "    return result"
   ]
  },
  {
   "cell_type": "code",
   "execution_count": 17,
   "metadata": {
    "collapsed": true
   },
   "outputs": [],
   "source": [
    "#just taking log so as prob doesnt add up to almost 0 \n",
    "def probability(dictionary,x,current_class):\n",
    "    output=np.log(dictionary[current_class][\"total_count\"]/dictionary[\"total_data\"])\n",
    "    num_features=len(dictionary[current_class].keys())-1\n",
    "    for j in range  (1,num_features+1):\n",
    "        xj=x[j-1]\n",
    "        count_current_class_with_value_xj=dictionary[current_class][j][xj]+1 #FOR LAPLACE CORRECTION\n",
    "        count_current_class=dictionary[current_class][\"total_count\"] + len(dictionary[current_class][j].keys())\n",
    "        current_xj_probability=np.log(count_current_class_with_value_xj)-np.log(count_current_class)\n",
    "        output=output+current_xj_probability\n",
    "    return output"
   ]
  },
  {
   "cell_type": "code",
   "execution_count": 18,
   "metadata": {
    "collapsed": true
   },
   "outputs": [],
   "source": [
    "def normal_probability(dictionary,x,current_class):\n",
    "    output=dictionary[current_class][\"total_count\"]/dictionary[\"total_data\"]\n",
    "    num_features=len(dictionary[current_class].keys())-1\n",
    "    for j in range  (1,num_features+1):\n",
    "        xj=x[j-1]\n",
    "        count_current_class_with_value_xj=dictionary[current_class][j][xj]+1 #FOR LAPLACE CORRECTION\n",
    "        count_current_class=dictionary[current_class][\"total_count\"] + len(dictionary[current_class][j].keys())\n",
    "        current_xj_probability=count_current_class_with_value_xj/count_current_class\n",
    "        output=output*current_xj_probability\n",
    "    return output"
   ]
  },
  {
   "cell_type": "code",
   "execution_count": 28,
   "metadata": {
    "collapsed": true
   },
   "outputs": [],
   "source": [
    "def predictSinglePoint(dictionary,x):\n",
    "    classes=dictionary.keys()\n",
    "    best_p=-1000\n",
    "    best_class=-1\n",
    "    first_run=True\n",
    "    for current_class in classes:\n",
    "        if (current_class==\"total_data\"):\n",
    "            continue\n",
    "        p_current_class=probability(dictionary,x,current_class)\n",
    "        if (first_run or p_current_class>best_p): #defintely update first time\n",
    "            best_p=p_current_class\n",
    "            best_class=current_class\n",
    "        first_run=False\n",
    "    return best_class\n",
    "    "
   ]
  },
  {
   "cell_type": "code",
   "execution_count": 20,
   "metadata": {
    "collapsed": true
   },
   "outputs": [],
   "source": [
    "def predict(dictionary,X_test):\n",
    "    y_pred=[]\n",
    "    for x in X_test:\n",
    "        x_class=predictSinglePoint(dictionary,x)\n",
    "        y_pred.append(x_class)\n",
    "    return y_pred"
   ]
  },
  {
   "cell_type": "code",
   "execution_count": 21,
   "metadata": {
    "collapsed": true
   },
   "outputs": [],
   "source": [
    "def makeLabelled(column):\n",
    "    second_limit=column.mean()\n",
    "    first_limit=0.5* second_limit\n",
    "    third_limit=1.5* second_limit\n",
    "    for i in range(len(column)):\n",
    "        if (column[i]<first_limit):\n",
    "            column[i]=0\n",
    "        elif column[i]<second_limit:\n",
    "            column[i]=1\n",
    "        elif column[i]<third_limit:\n",
    "            column[i]=2\n",
    "        else:\n",
    "            column[i]=3\n",
    "    return column\n",
    "        \n",
    "    "
   ]
  },
  {
   "cell_type": "code",
   "execution_count": 22,
   "metadata": {},
   "outputs": [],
   "source": [
    "from sklearn import datasets\n",
    "iris=datasets.load_iris()\n",
    "X=iris.data\n",
    "Y=iris.target"
   ]
  },
  {
   "cell_type": "code",
   "execution_count": 23,
   "metadata": {},
   "outputs": [],
   "source": [
    "for i in range(X.shape[-1]):\n",
    "    X[:,i]=makeLabelled(X[:,i]) #for  all columns"
   ]
  },
  {
   "cell_type": "code",
   "execution_count": 24,
   "metadata": {
    "collapsed": true
   },
   "outputs": [],
   "source": [
    "from sklearn import model_selection\n",
    "X_train,X_test,Y_train,Y_test=model_selection.train_test_split(X,Y,test_size=0.25,random_state=0)"
   ]
  },
  {
   "cell_type": "code",
   "execution_count": 29,
   "metadata": {},
   "outputs": [],
   "source": [
    "dictionary=fit(X_train,Y_train)\n",
    "Y_pred=predict(dictionary,X_test)"
   ]
  },
  {
   "cell_type": "code",
   "execution_count": 30,
   "metadata": {},
   "outputs": [
    {
     "name": "stdout",
     "output_type": "stream",
     "text": [
      "             precision    recall  f1-score   support\n",
      "\n",
      "          0       1.00      1.00      1.00        13\n",
      "          1       0.94      1.00      0.97        16\n",
      "          2       1.00      0.89      0.94         9\n",
      "\n",
      "avg / total       0.98      0.97      0.97        38\n",
      "\n",
      "[[13  0  0]\n",
      " [ 0 16  0]\n",
      " [ 0  1  8]]\n"
     ]
    }
   ],
   "source": [
    "from sklearn.metrics import  classification_report,confusion_matrix\n",
    "print(classification_report(Y_test,Y_pred))\n",
    "print(confusion_matrix(Y_test,Y_pred)) # does great only 1 error"
   ]
  },
  {
   "cell_type": "code",
   "execution_count": 31,
   "metadata": {},
   "outputs": [
    {
     "name": "stdout",
     "output_type": "stream",
     "text": [
      "             precision    recall  f1-score   support\n",
      "\n",
      "          0       1.00      0.85      0.92        13\n",
      "          1       0.76      1.00      0.86        16\n",
      "          2       1.00      0.67      0.80         9\n",
      "\n",
      "avg / total       0.90      0.87      0.87        38\n",
      "\n",
      "[[11  2  0]\n",
      " [ 0 16  0]\n",
      " [ 0  3  6]]\n"
     ]
    }
   ],
   "source": [
    "#sklearn can work on continuous  data  as well\n",
    "#as implemented gausian naive bayes\n",
    "from sklearn.naive_bayes import GaussianNB\n",
    "clf=GaussianNB()\n",
    "clf.fit(X_train,Y_train)\n",
    "Y_pred=clf.predict(X_test)\n",
    "print(classification_report(Y_test,Y_pred))\n",
    "print(confusion_matrix(Y_test,Y_pred))\n",
    "#not giving better than our own -because iris dataset doesnot follow gaussian curve"
   ]
  },
  {
   "cell_type": "code",
   "execution_count": 33,
   "metadata": {},
   "outputs": [
    {
     "name": "stdout",
     "output_type": "stream",
     "text": [
      "             precision    recall  f1-score   support\n",
      "\n",
      "          0       1.00      0.85      0.92        13\n",
      "          1       0.00      0.00      0.00        16\n",
      "          2       0.36      1.00      0.53         9\n",
      "\n",
      "avg / total       0.43      0.53      0.44        38\n",
      "\n",
      "[[11  2  0]\n",
      " [ 0  0 16]\n",
      " [ 0  0  9]]\n"
     ]
    }
   ],
   "source": [
    "#multinomial perforing really really bad on iris\n",
    "#coz iris is not  text to be classified ... multinomial is for that\n",
    "#multinomial will work really well for text document\n",
    "from sklearn.naive_bayes import MultinomialNB\n",
    "clf=MultinomialNB()\n",
    "clf.fit(X_train,Y_train)\n",
    "Y_pred=clf.predict(X_test)\n",
    "print(classification_report(Y_test,Y_pred))\n",
    "print(confusion_matrix(Y_test,Y_pred))"
   ]
  },
  {
   "cell_type": "code",
   "execution_count": null,
   "metadata": {
    "collapsed": true
   },
   "outputs": [],
   "source": []
  }
 ],
 "metadata": {
  "kernelspec": {
   "display_name": "Python 3",
   "language": "python",
   "name": "python3"
  },
  "language_info": {
   "codemirror_mode": {
    "name": "ipython",
    "version": 3
   },
   "file_extension": ".py",
   "mimetype": "text/x-python",
   "name": "python",
   "nbconvert_exporter": "python",
   "pygments_lexer": "ipython3",
   "version": "3.6.2"
  }
 },
 "nbformat": 4,
 "nbformat_minor": 2
}
